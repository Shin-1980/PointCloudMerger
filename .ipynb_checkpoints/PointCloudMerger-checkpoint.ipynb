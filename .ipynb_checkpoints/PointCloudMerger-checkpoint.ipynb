{
 "cells": [
  {
   "cell_type": "code",
   "execution_count": 1,
   "id": "bf96fa16",
   "metadata": {},
   "outputs": [],
   "source": [
    "org_path = r\"C:\\doc\\PointClouds\\merge\\1\"\n",
    "tar_path = r\"C:\\doc\\PointClouds\\merge\\2\""
   ]
  },
  {
   "cell_type": "code",
   "execution_count": 2,
   "id": "1138eeb0-af3e-41a7-b17c-f9c68a9061fc",
   "metadata": {
    "scrolled": true
   },
   "outputs": [
    {
     "name": "stdout",
     "output_type": "stream",
     "text": [
      "execute {pictFilename}\n",
      "[[ 6.519240e-04  0.000000e+00 -6.251616e-01]\n",
      " [ 0.000000e+00  6.519240e-04 -4.698111e-01]\n",
      " [ 0.000000e+00  0.000000e+00  1.000000e+00]]\n",
      "[[ 0.9576898   0.28633827  0.02899024 -0.01503928]\n",
      " [ 0.047818   -0.05898013 -0.9971131  -0.11950688]\n",
      " [-0.28380185  0.95631135 -0.07017682  0.00960103]\n",
      " [ 0.          0.          0.          0.9999999 ]]\n",
      "done\n"
     ]
    }
   ],
   "source": [
    "run JPEG2XYZ.py --input {org_path}"
   ]
  },
  {
   "cell_type": "code",
   "execution_count": 3,
   "id": "40f9a60d-21f6-4902-90d1-e236b43882bd",
   "metadata": {},
   "outputs": [
    {
     "name": "stdout",
     "output_type": "stream",
     "text": [
      "execute {pictFilename}\n",
      "[[ 6.5184006e-04  0.0000000e+00 -6.2514760e-01]\n",
      " [ 0.0000000e+00  6.5184006e-04 -4.6860080e-01]\n",
      " [ 0.0000000e+00  0.0000000e+00  1.0000000e+00]]\n",
      "[[ 0.9214025   0.3796472   0.08297597  0.01023664]\n",
      " [ 0.02304725  0.15975904 -0.9868867  -0.1278566 ]\n",
      " [-0.3879251   0.9112324   0.13845257 -0.12555066]\n",
      " [ 0.          0.          0.          0.99999976]]\n",
      "done\n"
     ]
    }
   ],
   "source": [
    "run JPEG2XYZ.py --input {tar_path}"
   ]
  },
  {
   "cell_type": "code",
   "execution_count": 4,
   "id": "f2210929-c26b-4fb3-b117-8c747da08551",
   "metadata": {},
   "outputs": [],
   "source": [
    "import os"
   ]
  },
  {
   "cell_type": "code",
   "execution_count": 5,
   "id": "94c494d8-6288-490f-b8fe-2a22d80fa0cd",
   "metadata": {},
   "outputs": [],
   "source": [
    "org_input = os.path.join(org_path, \"*.jpeg\")\n",
    "tar_input = os.path.join(tar_path, \"*.jpeg\")\n",
    "\n",
    "# Define the number of maching points\n",
    "num = 20"
   ]
  },
  {
   "cell_type": "code",
   "execution_count": 6,
   "id": "547d761b-5ba0-4b57-84d1-98fef56bf474",
   "metadata": {},
   "outputs": [
    {
     "name": "stdout",
     "output_type": "stream",
     "text": [
      "files to read:\n",
      "C:\\doc\\PointClouds\\merge\\1\\372394.294202333.jpeg\n",
      "C:\\doc\\PointClouds\\merge\\2\\372444.943543791.jpeg\n",
      "files to write\n",
      "C:\\doc\\PointClouds\\merge\\1\\372394.294202333_matchXY.csv\n",
      "C:\\doc\\PointClouds\\merge\\2\\372444.943543791_matchXY.csv\n",
      "the result of matching\n",
      "C:\\doc\\PointClouds\\merge\\2\\372444.943543791_match.png\n",
      "extractFetureXYZ\n",
      "xyzGen.getAndConfirmFiles\n",
      "[[ 6.519240e-04  0.000000e+00 -6.251616e-01]\n",
      " [ 0.000000e+00  6.519240e-04 -4.698111e-01]\n",
      " [ 0.000000e+00  0.000000e+00  1.000000e+00]]\n",
      "[[ 0.9576898   0.28633827  0.02899024 -0.01503928]\n",
      " [ 0.047818   -0.05898013 -0.9971131  -0.11950688]\n",
      " [-0.28380185  0.95631135 -0.07017682  0.00960103]\n",
      " [ 0.          0.          0.          0.9999999 ]]\n",
      "extractXYZbasedOnCSV\n",
      "C:\\doc\\PointClouds\\merge\\1\\372394.294202333_matchXYZ.csv\n",
      "done\n",
      "xyzGen.getAndConfirmFiles\n",
      "[[ 6.5184006e-04  0.0000000e+00 -6.2514760e-01]\n",
      " [ 0.0000000e+00  6.5184006e-04 -4.6860080e-01]\n",
      " [ 0.0000000e+00  0.0000000e+00  1.0000000e+00]]\n",
      "[[ 0.9214025   0.3796472   0.08297597  0.01023664]\n",
      " [ 0.02304725  0.15975904 -0.9868867  -0.1278566 ]\n",
      " [-0.3879251   0.9112324   0.13845257 -0.12555066]\n",
      " [ 0.          0.          0.          0.99999976]]\n",
      "extractXYZbasedOnCSV\n",
      "C:\\doc\\PointClouds\\merge\\2\\372444.943543791_matchXYZ.csv\n",
      "done\n",
      "Optimal translation: [-0.02587927 -0.01648652 -0.01167423]\n",
      "Optimal rotation (degrees): [-0.00771713 -0.01243707 -0.13273284]\n",
      "Read C:\\doc\\PointClouds\\merge\\2\\372444.943543791.xyz\n"
     ]
    }
   ],
   "source": [
    "run GenerateTransformedXYZ.py {org_input} {tar_input} {num}"
   ]
  },
  {
   "cell_type": "code",
   "execution_count": null,
   "id": "be905910-56cf-49d9-9180-987026b10695",
   "metadata": {},
   "outputs": [],
   "source": []
  }
 ],
 "metadata": {
  "kernelspec": {
   "display_name": "Python [conda env:base] *",
   "language": "python",
   "name": "conda-base-py"
  },
  "language_info": {
   "codemirror_mode": {
    "name": "ipython",
    "version": 3
   },
   "file_extension": ".py",
   "mimetype": "text/x-python",
   "name": "python",
   "nbconvert_exporter": "python",
   "pygments_lexer": "ipython3",
   "version": "3.12.7"
  }
 },
 "nbformat": 4,
 "nbformat_minor": 5
}
